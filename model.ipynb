{
 "cells": [
  {
   "cell_type": "code",
   "execution_count": 1,
   "metadata": {},
   "outputs": [],
   "source": [
    "import pandas as pd\n",
    "import numpy as np\n",
    "import matplotlib.pyplot as plt\n",
    "import seaborn as sns"
   ]
  },
  {
   "cell_type": "code",
   "execution_count": 2,
   "metadata": {},
   "outputs": [],
   "source": [
    "# Load the data\n",
    "path = '/Women_Dresses_Reviews_Dataset.csv'\n",
    "data = pd.read_csv(path)"
   ]
  },
  {
   "cell_type": "code",
   "execution_count": 3,
   "metadata": {},
   "outputs": [
    {
     "data": {
      "text/html": [
       "<div>\n",
       "<style scoped>\n",
       "    .dataframe tbody tr th:only-of-type {\n",
       "        vertical-align: middle;\n",
       "    }\n",
       "\n",
       "    .dataframe tbody tr th {\n",
       "        vertical-align: top;\n",
       "    }\n",
       "\n",
       "    .dataframe thead th {\n",
       "        text-align: right;\n",
       "    }\n",
       "</style>\n",
       "<table border=\"1\" class=\"dataframe\">\n",
       "  <thead>\n",
       "    <tr style=\"text-align: right;\">\n",
       "      <th></th>\n",
       "      <th>s.no</th>\n",
       "      <th>age</th>\n",
       "      <th>division_name</th>\n",
       "      <th>department_name</th>\n",
       "      <th>class_name</th>\n",
       "      <th>clothing_id</th>\n",
       "      <th>title</th>\n",
       "      <th>review_text</th>\n",
       "      <th>alike_feedback_count</th>\n",
       "      <th>rating</th>\n",
       "      <th>recommend_index</th>\n",
       "    </tr>\n",
       "  </thead>\n",
       "  <tbody>\n",
       "    <tr>\n",
       "      <th>0</th>\n",
       "      <td>0</td>\n",
       "      <td>40</td>\n",
       "      <td>General</td>\n",
       "      <td>Bottoms</td>\n",
       "      <td>Jeans</td>\n",
       "      <td>1028</td>\n",
       "      <td>Amazing fit and wash</td>\n",
       "      <td>Like other reviewers i was hesitant to spend t...</td>\n",
       "      <td>0</td>\n",
       "      <td>5</td>\n",
       "      <td>1</td>\n",
       "    </tr>\n",
       "    <tr>\n",
       "      <th>1</th>\n",
       "      <td>1</td>\n",
       "      <td>62</td>\n",
       "      <td>General Petite</td>\n",
       "      <td>Tops</td>\n",
       "      <td>Blouses</td>\n",
       "      <td>850</td>\n",
       "      <td>Lovely and unique!</td>\n",
       "      <td>As is true of a bunch of the fall clothing pho...</td>\n",
       "      <td>12</td>\n",
       "      <td>5</td>\n",
       "      <td>1</td>\n",
       "    </tr>\n",
       "    <tr>\n",
       "      <th>2</th>\n",
       "      <td>2</td>\n",
       "      <td>47</td>\n",
       "      <td>General Petite</td>\n",
       "      <td>Bottoms</td>\n",
       "      <td>Skirts</td>\n",
       "      <td>993</td>\n",
       "      <td>Meh</td>\n",
       "      <td>I so wanted this skirt to work, love the desig...</td>\n",
       "      <td>3</td>\n",
       "      <td>1</td>\n",
       "      <td>0</td>\n",
       "    </tr>\n",
       "  </tbody>\n",
       "</table>\n",
       "</div>"
      ],
      "text/plain": [
       "   s.no  age   division_name department_name class_name  clothing_id  \\\n",
       "0     0   40         General         Bottoms      Jeans         1028   \n",
       "1     1   62  General Petite            Tops    Blouses          850   \n",
       "2     2   47  General Petite         Bottoms     Skirts          993   \n",
       "\n",
       "                  title                                        review_text  \\\n",
       "0  Amazing fit and wash  Like other reviewers i was hesitant to spend t...   \n",
       "1    Lovely and unique!  As is true of a bunch of the fall clothing pho...   \n",
       "2                   Meh  I so wanted this skirt to work, love the desig...   \n",
       "\n",
       "   alike_feedback_count  rating  recommend_index   \n",
       "0                     0       5                 1  \n",
       "1                    12       5                 1  \n",
       "2                     3       1                 0  "
      ]
     },
     "execution_count": 3,
     "metadata": {},
     "output_type": "execute_result"
    }
   ],
   "source": [
    "data.head(3)"
   ]
  },
  {
   "cell_type": "code",
   "execution_count": 4,
   "metadata": {},
   "outputs": [
    {
     "data": {
      "text/plain": [
       "(23486, 11)"
      ]
     },
     "execution_count": 4,
     "metadata": {},
     "output_type": "execute_result"
    }
   ],
   "source": [
    "# Total 23486 records\n",
    "data.shape"
   ]
  },
  {
   "cell_type": "code",
   "execution_count": 5,
   "metadata": {},
   "outputs": [
    {
     "data": {
      "text/plain": [
       "s.no                     int64\n",
       "age                      int64\n",
       "division_name           object\n",
       "department_name         object\n",
       "class_name              object\n",
       "clothing_id              int64\n",
       "title                   object\n",
       "review_text             object\n",
       "alike_feedback_count     int64\n",
       "rating                   int64\n",
       "recommend_index          int64\n",
       "dtype: object"
      ]
     },
     "execution_count": 5,
     "metadata": {},
     "output_type": "execute_result"
    }
   ],
   "source": [
    "data.dtypes"
   ]
  },
  {
   "cell_type": "code",
   "execution_count": 6,
   "metadata": {},
   "outputs": [
    {
     "data": {
      "text/plain": [
       "s.no                       0\n",
       "age                        0\n",
       "division_name             14\n",
       "department_name           14\n",
       "class_name                14\n",
       "clothing_id                0\n",
       "title                   3810\n",
       "review_text              845\n",
       "alike_feedback_count       0\n",
       "rating                     0\n",
       "recommend_index            0\n",
       "dtype: int64"
      ]
     },
     "execution_count": 6,
     "metadata": {},
     "output_type": "execute_result"
    }
   ],
   "source": [
    "# Missing values in each feature\n",
    "data.isna().sum()"
   ]
  },
  {
   "cell_type": "code",
   "execution_count": 7,
   "metadata": {},
   "outputs": [],
   "source": [
    "# Process the data\n",
    "# Replace missing values in division_name, department_name and class_name\n",
    "# Rename 'recommend_index ' to recommend_index\n",
    "# Group the age \n",
    "\n",
    "data = (data\n",
    "       .fillna({'division_name': 'Not_Known',\n",
    "               'department_name': 'Not_Known',\n",
    "               'class_name': 'Not_Known'})\n",
    "       .rename(columns={'recommend_index ': 'recommend_index'})\n",
    "       .assign(age_group=lambda x: pd.cut(data['age'], \n",
    "                                        bins=(0,19,29,39,49,59,69,np.inf), \n",
    "                                        labels=['Teen', '20-29', '30-39', '40-49', '50-59', '60-69', 'Above 70']\n",
    "                                )\n",
    "        )\n",
    "\n",
    ")"
   ]
  },
  {
   "cell_type": "code",
   "execution_count": 8,
   "metadata": {},
   "outputs": [
    {
     "data": {
      "text/html": [
       "<div>\n",
       "<style scoped>\n",
       "    .dataframe tbody tr th:only-of-type {\n",
       "        vertical-align: middle;\n",
       "    }\n",
       "\n",
       "    .dataframe tbody tr th {\n",
       "        vertical-align: top;\n",
       "    }\n",
       "\n",
       "    .dataframe thead th {\n",
       "        text-align: right;\n",
       "    }\n",
       "</style>\n",
       "<table border=\"1\" class=\"dataframe\">\n",
       "  <thead>\n",
       "    <tr style=\"text-align: right;\">\n",
       "      <th></th>\n",
       "      <th>s.no</th>\n",
       "      <th>age</th>\n",
       "      <th>division_name</th>\n",
       "      <th>department_name</th>\n",
       "      <th>class_name</th>\n",
       "      <th>clothing_id</th>\n",
       "      <th>title</th>\n",
       "      <th>review_text</th>\n",
       "      <th>alike_feedback_count</th>\n",
       "      <th>rating</th>\n",
       "      <th>recommend_index</th>\n",
       "      <th>age_group</th>\n",
       "    </tr>\n",
       "  </thead>\n",
       "  <tbody>\n",
       "    <tr>\n",
       "      <th>0</th>\n",
       "      <td>0</td>\n",
       "      <td>40</td>\n",
       "      <td>General</td>\n",
       "      <td>Bottoms</td>\n",
       "      <td>Jeans</td>\n",
       "      <td>1028</td>\n",
       "      <td>Amazing fit and wash</td>\n",
       "      <td>Like other reviewers i was hesitant to spend t...</td>\n",
       "      <td>0</td>\n",
       "      <td>5</td>\n",
       "      <td>1</td>\n",
       "      <td>40-49</td>\n",
       "    </tr>\n",
       "    <tr>\n",
       "      <th>1</th>\n",
       "      <td>1</td>\n",
       "      <td>62</td>\n",
       "      <td>General Petite</td>\n",
       "      <td>Tops</td>\n",
       "      <td>Blouses</td>\n",
       "      <td>850</td>\n",
       "      <td>Lovely and unique!</td>\n",
       "      <td>As is true of a bunch of the fall clothing pho...</td>\n",
       "      <td>12</td>\n",
       "      <td>5</td>\n",
       "      <td>1</td>\n",
       "      <td>60-69</td>\n",
       "    </tr>\n",
       "  </tbody>\n",
       "</table>\n",
       "</div>"
      ],
      "text/plain": [
       "   s.no  age   division_name department_name class_name  clothing_id  \\\n",
       "0     0   40         General         Bottoms      Jeans         1028   \n",
       "1     1   62  General Petite            Tops    Blouses          850   \n",
       "\n",
       "                  title                                        review_text  \\\n",
       "0  Amazing fit and wash  Like other reviewers i was hesitant to spend t...   \n",
       "1    Lovely and unique!  As is true of a bunch of the fall clothing pho...   \n",
       "\n",
       "   alike_feedback_count  rating  recommend_index age_group  \n",
       "0                     0       5                1     40-49  \n",
       "1                    12       5                1     60-69  "
      ]
     },
     "execution_count": 8,
     "metadata": {},
     "output_type": "execute_result"
    }
   ],
   "source": [
    "data.head(2)"
   ]
  },
  {
   "cell_type": "markdown",
   "metadata": {},
   "source": [
    "#### recommend_index is the label for this case study and dataset is imbalanced"
   ]
  },
  {
   "cell_type": "code",
   "execution_count": 9,
   "metadata": {},
   "outputs": [
    {
     "name": "stdout",
     "output_type": "stream",
     "text": [
      "1    19314\n",
      "0     4172\n",
      "Name: recommend_index, dtype: int64 \n",
      "\n",
      " recommended: 82.24% observations\n",
      " not_recommended: 17.76% observations\n"
     ]
    }
   ],
   "source": [
    "print(data['recommend_index'].value_counts(), '\\n')\n",
    "print(f' recommended: {round((19314/data.shape[0])*100, 2)}% observations\\n not_recommended: {round((4172/data.shape[0])*100, 2)}% observations')"
   ]
  },
  {
   "cell_type": "markdown",
   "metadata": {},
   "source": [
    "### Out of three know divisions, General division has highest sales, i.e 59%"
   ]
  },
  {
   "cell_type": "code",
   "execution_count": 10,
   "metadata": {},
   "outputs": [
    {
     "data": {
      "text/html": [
       "<div>\n",
       "<style scoped>\n",
       "    .dataframe tbody tr th:only-of-type {\n",
       "        vertical-align: middle;\n",
       "    }\n",
       "\n",
       "    .dataframe tbody tr th {\n",
       "        vertical-align: top;\n",
       "    }\n",
       "\n",
       "    .dataframe thead th {\n",
       "        text-align: right;\n",
       "    }\n",
       "</style>\n",
       "<table border=\"1\" class=\"dataframe\">\n",
       "  <thead>\n",
       "    <tr style=\"text-align: right;\">\n",
       "      <th></th>\n",
       "      <th>division_name</th>\n",
       "      <th>percentage_sale</th>\n",
       "    </tr>\n",
       "  </thead>\n",
       "  <tbody>\n",
       "    <tr>\n",
       "      <th>0</th>\n",
       "      <td>General</td>\n",
       "      <td>58.97</td>\n",
       "    </tr>\n",
       "    <tr>\n",
       "      <th>1</th>\n",
       "      <td>General Petite</td>\n",
       "      <td>34.57</td>\n",
       "    </tr>\n",
       "    <tr>\n",
       "      <th>2</th>\n",
       "      <td>Initmates</td>\n",
       "      <td>6.40</td>\n",
       "    </tr>\n",
       "    <tr>\n",
       "      <th>3</th>\n",
       "      <td>Not_Known</td>\n",
       "      <td>0.06</td>\n",
       "    </tr>\n",
       "  </tbody>\n",
       "</table>\n",
       "</div>"
      ],
      "text/plain": [
       "    division_name  percentage_sale\n",
       "0         General            58.97\n",
       "1  General Petite            34.57\n",
       "2       Initmates             6.40\n",
       "3       Not_Known             0.06"
      ]
     },
     "execution_count": 10,
     "metadata": {},
     "output_type": "execute_result"
    }
   ],
   "source": [
    "division_sale = pd.DataFrame(data.groupby('division_name')['s.no'].count()).reset_index()\n",
    "division_sale.rename(columns={'s.no': 'total_sales'}, inplace=True)\n",
    "division_sale['percentage_sale'] = round(division_sale['total_sales'].apply(lambda x: (x/data.shape[0]) * 100), 2)\n",
    "division_sale.drop(['total_sales'], axis=1, inplace=True)\n",
    "division_sale"
   ]
  },
  {
   "cell_type": "markdown",
   "metadata": {},
   "source": [
    "### Which age group buys more?"
   ]
  },
  {
   "cell_type": "code",
   "execution_count": 11,
   "metadata": {},
   "outputs": [
    {
     "data": {
      "text/plain": [
       "Text(0, 7, 'Woman in their thirties buy more. Teens and above 70 buy less')"
      ]
     },
     "execution_count": 11,
     "metadata": {},
     "output_type": "execute_result"
    },
    {
     "data": {
      "image/png": "[encoded data removed]",
      "text/plain": [
       "<Figure size 800x400 with 1 Axes>"
      ]
     },
     "metadata": {},
     "output_type": "display_data"
    }
   ],
   "source": [
    "most_buying_age_group = data.groupby(['age_group'], as_index=False)['s.no'].count().sort_values(by='s.no')\n",
    "most_buying_age_group.rename(columns={'s.no': 'percentage'}, inplace=True)\n",
    "most_buying_age_group.set_index('age_group', inplace=True)\n",
    "\n",
    "# Calculate percentage\n",
    "most_buying_age_group = most_buying_age_group.div(data.shape[0]).mul(100).round(2)\n",
    "\n",
    "# plot\n",
    "plot1 = most_buying_age_group.plot( kind='barh', figsize=(8, 4))\n",
    "for p in plot1.containers:\n",
    "    plot1.bar_label(p, fmt='%.1f%%')\n",
    "\n",
    "\n",
    "plt.box(False)\n",
    "plt.xticks([])\n",
    "plt.ylabel('age group', loc='top')\n",
    "plt.legend('',frameon=False)\n",
    "plt.text(x=0, y=7.5, s='Which age group buys more?', fontweight='bold')\n",
    "plt.text(x=0, y=7, s='Woman in their thirties buy more. Teens and above 70 buy less', fontsize='small')"
   ]
  },
  {
   "cell_type": "code",
   "execution_count": 12,
   "metadata": {},
   "outputs": [
    {
     "data": {
      "text/plain": [
       "Text(0, 7, 'Except Teen, other age groups have similar buying behavior. Womans buy more tops and dresseses.')"
      ]
     },
     "execution_count": 12,
     "metadata": {},
     "output_type": "execute_result"
    },
    {
     "data": {
      "image/png": "[encoded data removed]",
      "text/plain": [
       "<Figure size 640x480 with 1 Axes>"
      ]
     },
     "metadata": {},
     "output_type": "display_data"
    }
   ],
   "source": [
    "# What age group buys what kind of clothes?\n",
    "pd.DataFrame(data.groupby('age_group')['department_name'].value_counts()).unstack().plot.barh(stacked=True, colormap='Dark2')\n",
    "plt.legend(bbox_to_anchor=(1.05, 1), loc='upper left', borderaxespad=0, fontsize=10)\n",
    "plt.box(False)\n",
    "plt.xlabel('purchased item total',  loc='center')\n",
    "plt.ylabel('age group', loc='top')\n",
    "plt.text(x=0, y=7.5, s='Buying behaviour of different age groups', fontweight='bold')\n",
    "plt.text(x=0, y=7, s='Except Teen, other age groups have similar buying behavior. Womans buy more tops and dresseses.', fontsize='small')"
   ]
  },
  {
   "cell_type": "markdown",
   "metadata": {},
   "source": [
    "### Model: Classification problem"
   ]
  },
  {
   "cell_type": "code",
   "execution_count": 13,
   "metadata": {},
   "outputs": [],
   "source": [
    "# I'm not considering title and review_text features for modeling as the dataset has feature called rating. \n",
    "data_mod = data.drop(columns=['title', 'review_text', 'clothing_id', 's.no', 'age_group'], axis=1)"
   ]
  },
  {
   "cell_type": "code",
   "execution_count": 14,
   "metadata": {},
   "outputs": [
    {
     "data": {
      "text/html": [
       "<div>\n",
       "<style scoped>\n",
       "    .dataframe tbody tr th:only-of-type {\n",
       "        vertical-align: middle;\n",
       "    }\n",
       "\n",
       "    .dataframe tbody tr th {\n",
       "        vertical-align: top;\n",
       "    }\n",
       "\n",
       "    .dataframe thead th {\n",
       "        text-align: right;\n",
       "    }\n",
       "</style>\n",
       "<table border=\"1\" class=\"dataframe\">\n",
       "  <thead>\n",
       "    <tr style=\"text-align: right;\">\n",
       "      <th></th>\n",
       "      <th>age</th>\n",
       "      <th>division_name</th>\n",
       "      <th>department_name</th>\n",
       "      <th>class_name</th>\n",
       "      <th>alike_feedback_count</th>\n",
       "      <th>rating</th>\n",
       "      <th>recommend_index</th>\n",
       "    </tr>\n",
       "  </thead>\n",
       "  <tbody>\n",
       "    <tr>\n",
       "      <th>23484</th>\n",
       "      <td>57</td>\n",
       "      <td>General</td>\n",
       "      <td>Dresses</td>\n",
       "      <td>Dresses</td>\n",
       "      <td>10</td>\n",
       "      <td>5</td>\n",
       "      <td>1</td>\n",
       "    </tr>\n",
       "    <tr>\n",
       "      <th>23485</th>\n",
       "      <td>56</td>\n",
       "      <td>General</td>\n",
       "      <td>Jackets</td>\n",
       "      <td>Jackets</td>\n",
       "      <td>0</td>\n",
       "      <td>5</td>\n",
       "      <td>1</td>\n",
       "    </tr>\n",
       "  </tbody>\n",
       "</table>\n",
       "</div>"
      ],
      "text/plain": [
       "       age division_name department_name class_name  alike_feedback_count  \\\n",
       "23484   57       General         Dresses    Dresses                    10   \n",
       "23485   56       General         Jackets    Jackets                     0   \n",
       "\n",
       "       rating  recommend_index  \n",
       "23484       5                1  \n",
       "23485       5                1  "
      ]
     },
     "execution_count": 14,
     "metadata": {},
     "output_type": "execute_result"
    }
   ],
   "source": [
    "data_mod.tail(2)"
   ]
  },
  {
   "cell_type": "code",
   "execution_count": 15,
   "metadata": {},
   "outputs": [],
   "source": [
    "# Encode categorical data\n",
    "from sklearn.preprocessing import LabelEncoder\n",
    "label_encoder = LabelEncoder()\n",
    "\n",
    "for col in data_mod.select_dtypes(include='O').columns:\n",
    "    data_mod[col] = label_encoder.fit_transform(data_mod[col])"
   ]
  },
  {
   "cell_type": "code",
   "execution_count": 16,
   "metadata": {},
   "outputs": [
    {
     "data": {
      "text/html": [
       "<div>\n",
       "<style scoped>\n",
       "    .dataframe tbody tr th:only-of-type {\n",
       "        vertical-align: middle;\n",
       "    }\n",
       "\n",
       "    .dataframe tbody tr th {\n",
       "        vertical-align: top;\n",
       "    }\n",
       "\n",
       "    .dataframe thead th {\n",
       "        text-align: right;\n",
       "    }\n",
       "</style>\n",
       "<table border=\"1\" class=\"dataframe\">\n",
       "  <thead>\n",
       "    <tr style=\"text-align: right;\">\n",
       "      <th></th>\n",
       "      <th>age</th>\n",
       "      <th>division_name</th>\n",
       "      <th>department_name</th>\n",
       "      <th>class_name</th>\n",
       "      <th>alike_feedback_count</th>\n",
       "      <th>rating</th>\n",
       "      <th>recommend_index</th>\n",
       "    </tr>\n",
       "  </thead>\n",
       "  <tbody>\n",
       "    <tr>\n",
       "      <th>0</th>\n",
       "      <td>40</td>\n",
       "      <td>0</td>\n",
       "      <td>0</td>\n",
       "      <td>7</td>\n",
       "      <td>0</td>\n",
       "      <td>5</td>\n",
       "      <td>1</td>\n",
       "    </tr>\n",
       "    <tr>\n",
       "      <th>1</th>\n",
       "      <td>62</td>\n",
       "      <td>1</td>\n",
       "      <td>5</td>\n",
       "      <td>0</td>\n",
       "      <td>12</td>\n",
       "      <td>5</td>\n",
       "      <td>1</td>\n",
       "    </tr>\n",
       "    <tr>\n",
       "      <th>2</th>\n",
       "      <td>47</td>\n",
       "      <td>1</td>\n",
       "      <td>0</td>\n",
       "      <td>16</td>\n",
       "      <td>3</td>\n",
       "      <td>1</td>\n",
       "      <td>0</td>\n",
       "    </tr>\n",
       "  </tbody>\n",
       "</table>\n",
       "</div>"
      ],
      "text/plain": [
       "   age  division_name  department_name  class_name  alike_feedback_count  \\\n",
       "0   40              0                0           7                     0   \n",
       "1   62              1                5           0                    12   \n",
       "2   47              1                0          16                     3   \n",
       "\n",
       "   rating  recommend_index  \n",
       "0       5                1  \n",
       "1       5                1  \n",
       "2       1                0  "
      ]
     },
     "execution_count": 16,
     "metadata": {},
     "output_type": "execute_result"
    }
   ],
   "source": [
    "data_mod.head(3)"
   ]
  },
  {
   "cell_type": "code",
   "execution_count": 17,
   "metadata": {},
   "outputs": [],
   "source": [
    "# Split the data\n",
    "# Challenge_1: Make sure train and test splits have the same ditribution as original dataset\n",
    "\n",
    "from sklearn.model_selection import train_test_split\n",
    "\n",
    "y = data_mod['recommend_index']\n",
    "X = data_mod.drop(columns=['recommend_index'], axis=1)\n",
    "X_train, X_test, y_train, y_test = train_test_split(X, y, random_state=1, shuffle= True, stratify=y)"
   ]
  },
  {
   "cell_type": "code",
   "execution_count": 18,
   "metadata": {},
   "outputs": [
    {
     "name": "stdout",
     "output_type": "stream",
     "text": [
      "1    14485\n",
      "0     3129\n",
      "Name: recommend_index, dtype: int64 \n",
      "\n",
      " recommended: 82.24% observations\n",
      " not_recommended: 17.76% observations\n"
     ]
    }
   ],
   "source": [
    "# As the dataset is imbalanced, I used stratify option to make sure the data distribution in train and test are similar\n",
    "\n",
    "# Training data\n",
    "print(y_train.value_counts(), '\\n')\n",
    "print(f' recommended: {round((14485/y_train.shape[0])*100, 2)}% observations\\n not_recommended: {round((3129/y_train.shape[0])*100, 2)}% observations')"
   ]
  },
  {
   "cell_type": "code",
   "execution_count": 19,
   "metadata": {},
   "outputs": [
    {
     "name": "stdout",
     "output_type": "stream",
     "text": [
      "1    4829\n",
      "0    1043\n",
      "Name: recommend_index, dtype: int64 \n",
      "\n",
      " recommended: 82.24% observations\n",
      " not_recommended: 17.76% observations\n"
     ]
    }
   ],
   "source": [
    "# Testing data\n",
    "\n",
    "print(y_test.value_counts(), '\\n')\n",
    "print(f' recommended: {round((4829/y_test.shape[0])*100, 2)}% observations\\n not_recommended: {round((1043/y_test.shape[0])*100, 2)}% observations')"
   ]
  },
  {
   "cell_type": "code",
   "execution_count": 20,
   "metadata": {},
   "outputs": [],
   "source": [
    "# Challenge_2: Training data is still imbalanced: Peanalize the errors using class_weight\n",
    "# model1 : RandomForestClassifier\n",
    "# model2 : LogisticRegression\n",
    "\n",
    "from sklearn.ensemble import RandomForestClassifier\n",
    "\n",
    "model1 = RandomForestClassifier(n_estimators=10, class_weight='balanced')\n",
    "model1.fit(X_train, y_train)\n",
    "y_pred = model1.predict(X_test)\n"
   ]
  },
  {
   "cell_type": "code",
   "execution_count": 21,
   "metadata": {},
   "outputs": [
    {
     "name": "stdout",
     "output_type": "stream",
     "text": [
      "Precision: 0.96\n",
      "F1 score: 0.95\n"
     ]
    }
   ],
   "source": [
    "# Evaluate predictions\n",
    "\n",
    "from sklearn.metrics import f1_score\n",
    "from sklearn.metrics import precision_score\n",
    "\n",
    "print(f'Precision: {round(precision_score(y_test, y_pred), 2)}')\n",
    "print(f'F1 score: {round(f1_score(y_test, y_pred), 2)}')\n"
   ]
  },
  {
   "cell_type": "code",
   "execution_count": 22,
   "metadata": {},
   "outputs": [
    {
     "name": "stdout",
     "output_type": "stream",
     "text": [
      "Precision: 0.99\n",
      "F1 score: 0.96\n"
     ]
    }
   ],
   "source": [
    "from sklearn.linear_model import LogisticRegression\n",
    "model2 = LogisticRegression(solver='liblinear',  class_weight='balanced')\n",
    "\n",
    "model2.fit(X_train, y_train)\n",
    "y_hat = model2.predict(X_test)\n",
    "\n",
    "print(f'Precision: {round(precision_score(y_test, y_hat), 2)}')\n",
    "print(f'F1 score: {round(f1_score(y_test, y_hat), 2)}')"
   ]
  }
 ],
 "metadata": {
  "kernelspec": {
   "display_name": "Python 3 (ipykernel)",
   "language": "python",
   "name": "python3"
  },
  "language_info": {
   "codemirror_mode": {
    "name": "ipython",
    "version": 3
   },
   "file_extension": ".py",
   "mimetype": "text/x-python",
   "name": "python",
   "nbconvert_exporter": "python",
   "pygments_lexer": "ipython3",
   "version": "3.9.13"
  },
  "vscode": {
   "interpreter": {
    "hash": "7c79684c841b58907e6c3a4d35389bbc1c93630169e64a59a848d63947da640a"
   }
  }
 },
 "nbformat": 4,
 "nbformat_minor": 2
}
